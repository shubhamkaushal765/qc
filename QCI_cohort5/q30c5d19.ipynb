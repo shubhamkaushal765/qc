{
 "cells": [
  {
   "cell_type": "markdown",
   "id": "86d8e50d-bcf9-4910-a8b5-4baa535c8cab",
   "metadata": {},
   "source": [
    "# Day 19 - Kernel Methods"
   ]
  },
  {
   "cell_type": "markdown",
   "id": "ad9a3097-0ac6-4937-8bb2-856308c37cab",
   "metadata": {},
   "source": [
    "## Kernel Methods\n",
    "- Uses kernel functions to operate in a higher-dimensional feature space.\n",
    "- At the core of supervised learning: <b>Support Vector Machines (SVMs)</b>\n",
    "\n",
    "## Kernel functions\n",
    "\n",
    "$k(\\vec{x}_i, \\vec{x}_j) = \\langle f(\\vec{x}_i), f(\\vec{x}_j)\\rangle$\n",
    "\n",
    "where\n",
    "- $k$ is the kernel function\n",
    "- $\\vec{x}_i, \\vec{x}_j$ are $n$-dimensional input\n",
    "- $f$ is a map from $n$-demensional space to $m$-dimensional space\n",
    "- and $\\langle ., .\\rangle$ denotes the inner product\n",
    "\n",
    "The kernel function can also be represented by a matrix.\n",
    "\n",
    "## Quantum Kernels\n",
    "\n",
    "The main idea is to use quantum feature map to perform the kernel trick, and they can be plugged into classical SVM.\n",
    "$K_{ij} = |\\langle \\phi(\\vec{x}_i), \\phi(\\vec{x}_j)\\rangle|^2$\n",
    "\n",
    "where\n",
    "- $K_{ij}$ is the kernel matrix\n",
    "- $\\vec{x}_i, \\vec{x}_j$ are $n$-dimensional input\n",
    "- $\\phi(\\vec{x})$ is the quantum feature map\n",
    "- and $|\\langle ., .\\rangle|^2$ is the overlap of two quantum states\n",
    "\n",
    "<!-- Qiskit: QSVC class, PEGASOS QSVC, Quantum Kernel Training -->"
   ]
  },
  {
   "cell_type": "code",
   "execution_count": 2,
   "id": "b7b4e740-89c4-4a1b-8b9b-89b748a8d1c4",
   "metadata": {},
   "outputs": [],
   "source": [
    "!pip install qiskit-algorithms qiskit-machine-learning --quiet"
   ]
  },
  {
   "cell_type": "code",
   "execution_count": 8,
   "id": "84e3d534-12d9-4056-b385-b9b14bf76370",
   "metadata": {},
   "outputs": [],
   "source": [
    "from qiskit_machine_learning.datasets import ad_hoc_data\n",
    "from qiskit_algorithms.utils import algorithm_globals\n",
    "\n",
    "algorithm_globals.random_seed = 12345\n",
    "\n",
    "adhoc_dimension = 2\n",
    "train_features, train_labels, test_features, test_labels, adhoc_total = ad_hoc_data(\n",
    "    training_size=20,\n",
    "    test_size=5,\n",
    "    n=adhoc_dimension,\n",
    "    gap=0.3,\n",
    "    plot_data=False,\n",
    "    one_hot=False,\n",
    "    include_sample_total=True,\n",
    ")"
   ]
  },
  {
   "cell_type": "code",
   "execution_count": 9,
   "id": "37f130c5-5200-405e-9818-dec1854a20dc",
   "metadata": {},
   "outputs": [],
   "source": [
    "import matplotlib.pyplot as plt\n",
    "import numpy as np\n",
    "\n",
    "\n",
    "def plot_features(ax, features, labels, class_label, marker, face, edge, label):\n",
    "    # A train plot\n",
    "    ax.scatter(\n",
    "        # x coordinate of labels where class is class_label\n",
    "        features[np.where(labels[:] == class_label), 0],\n",
    "        # y coordinate of labels where class is class_label\n",
    "        features[np.where(labels[:] == class_label), 1],\n",
    "        marker=marker,\n",
    "        facecolors=face,\n",
    "        edgecolors=edge,\n",
    "        label=label,\n",
    "    )\n",
    "\n",
    "def plot_dataset(train_features, train_labels, test_features, test_labels, adhoc_total):\n",
    "\n",
    "    plt.figure(figsize=(5, 5))\n",
    "    plt.ylim(0, 2 * np.pi)\n",
    "    plt.xlim(0, 2 * np.pi)\n",
    "    plt.imshow(\n",
    "        np.asmatrix(adhoc_total).T,\n",
    "        interpolation=\"nearest\",\n",
    "        origin=\"lower\",\n",
    "        cmap=\"RdBu\",\n",
    "        extent=[0, 2 * np.pi, 0, 2 * np.pi],\n",
    "    )\n",
    "\n",
    "    # A train plot\n",
    "    plot_features(plt, train_features, train_labels, 0, \"s\", \"w\", \"b\", \"A train\")\n",
    "\n",
    "    # B train plot\n",
    "    plot_features(plt, train_features, train_labels, 1, \"o\", \"w\", \"r\", \"B train\")\n",
    "\n",
    "    # A test plot\n",
    "    plot_features(plt, test_features, test_labels, 0, \"s\", \"b\", \"w\", \"A test\")\n",
    "\n",
    "    # B test plot\n",
    "    plot_features(plt, test_features, test_labels, 1, \"o\", \"r\", \"w\", \"B test\")\n",
    "\n",
    "    plt.legend(bbox_to_anchor=(1.05, 1), loc=\"upper left\", borderaxespad=0.0)\n",
    "    plt.title(\"Ad hoc dataset\")\n",
    "\n",
    "    plt.show()"
   ]
  },
  {
   "cell_type": "code",
   "execution_count": 10,
   "id": "f9865be1-40b4-4bd5-9293-04b3b94df922",
   "metadata": {},
   "outputs": [
    {
     "data": {
      "image/png": "[encoded data removed]",
      "text/plain": [
       "<Figure size 500x500 with 1 Axes>"
      ]
     },
     "metadata": {},
     "output_type": "display_data"
    }
   ],
   "source": [
    "plot_dataset(train_features, train_labels, test_features, test_labels, adhoc_total)"
   ]
  },
  {
   "cell_type": "markdown",
   "id": "dec7a8cf-d93e-401b-84d9-f4025f180742",
   "metadata": {},
   "source": [
    "## Quantum Kernel"
   ]
  },
  {
   "cell_type": "code",
   "execution_count": 11,
   "id": "9a7a7b0d-8a73-4236-a4f5-db263674a9b8",
   "metadata": {},
   "outputs": [],
   "source": [
    "from qiskit.circuit.library import ZZFeatureMap\n",
    "from qiskit.primitives import Sampler\n",
    "from qiskit_algorithms.state_fidelities import ComputeUncompute\n",
    "from qiskit_machine_learning.kernels import FidelityQuantumKernel\n",
    "\n",
    "adhoc_feature_map = ZZFeatureMap(feature_dimension=adhoc_dimension, reps=2, entanglement=\"linear\")\n",
    "\n",
    "sampler = Sampler()\n",
    "\n",
    "fidelity = ComputeUncompute(sampler=sampler)\n",
    "\n",
    "adhoc_kernel = FidelityQuantumKernel(fidelity=fidelity, feature_map=adhoc_feature_map)"
   ]
  },
  {
   "cell_type": "code",
   "execution_count": 13,
   "id": "364fbc46-3254-4f61-939d-4600b622287a",
   "metadata": {},
   "outputs": [
    {
     "name": "stdout",
     "output_type": "stream",
     "text": [
      "     ┌──────────────────────────┐\n",
      "q_0: ┤0                         ├\n",
      "     │  ZZFeatureMap(x[0],x[1]) │\n",
      "q_1: ┤1                         ├\n",
      "     └──────────────────────────┘\n"
     ]
    }
   ],
   "source": [
    "print(adhoc_feature_map)"
   ]
  },
  {
   "cell_type": "markdown",
   "id": "1b93d240-9209-413e-9238-bcb52fccd589",
   "metadata": {},
   "source": [
    "# QSVM using Pennylane\n",
    "\n",
    "- Kernel based trainings bypass the processing and measurement parts of variational circuits, and only depends on the data encoding.\n",
    "- If loss is [hinge loss](https://en.wikipedia.org/wiki/Hinge_loss), the kernel method corresponds to standard SVM. Other convex loss functions lead to more general variations of SVMs.\n",
    "\n",
    "Note:\n",
    "- Hinge Loss: $l(y) = max(0, 1-t.y)$, where y_true is $t=\\pm1$, and y is the raw prediction (not the predicted label)."
   ]
  },
  {
   "cell_type": "code",
   "execution_count": 14,
   "id": "f35bac5a-825d-4ac6-bb2b-d2342e537c6f",
   "metadata": {},
   "outputs": [],
   "source": [
    "import numpy as np\n",
    "import torch\n",
    "from torch.nn.functional import relu\n",
    "\n",
    "from sklearn.svm import SVC\n",
    "from sklearn.datasets import load_iris\n",
    "from sklearn.preprocessing import StandardScaler\n",
    "from sklearn.model_selection import train_test_split\n",
    "from sklearn.metrics import accuracy_score\n",
    "\n",
    "import pennylane as qml\n",
    "from pennylane.templates import AngleEmbedding, StronglyEntanglingLayers\n",
    "from pennylane.operation import Tensor\n",
    "\n",
    "import matplotlib.pyplot as plt\n",
    "\n",
    "np.random.seed(42)"
   ]
  },
  {
   "cell_type": "markdown",
   "id": "9ab8ed5a-19d0-40e6-9106-76141098e200",
   "metadata": {},
   "source": [
    "## Dataset"
   ]
  },
  {
   "cell_type": "code",
   "execution_count": 16,
   "id": "b15140d4-43b9-4cd8-b6d7-214e7af51546",
   "metadata": {},
   "outputs": [],
   "source": [
    "X, y = load_iris(return_X_y=True)\n",
    "\n",
    "# iris dataset has 50 samples for each of the 3 classes. pick only the first stwo classes\n",
    "X = X[:100]\n",
    "y = y[:100]\n",
    "\n",
    "# shift y from {0, 1} to {-1, 1}, important for the SVM and the definition of hinge loss\n",
    "y = 2 * (y - 0.5)\n",
    "\n",
    "X_train, X_test, y_train, y_test = train_test_split(X, y)\n",
    "\n",
    "# Scaling\n",
    "scaler = StandardScaler().fit(X_train)\n",
    "X_train = scaler.transform(X_train)\n",
    "X_test = scaler.transform(X_test)"
   ]
  },
  {
   "cell_type": "code",
   "execution_count": 17,
   "id": "fda731a8-a018-4665-b6bc-e8a2b99b980a",
   "metadata": {},
   "outputs": [
    {
     "data": {
      "text/plain": [
       "4"
      ]
     },
     "execution_count": 17,
     "metadata": {},
     "output_type": "execute_result"
    }
   ],
   "source": [
    "n_qubits = len(X_train[0])\n",
    "n_qubits"
   ]
  },
  {
   "cell_type": "code",
   "execution_count": 18,
   "id": "e3bdf6fa-6b46-4eae-8503-20d5b75f6216",
   "metadata": {},
   "outputs": [],
   "source": [
    "dev = qml.device(\"lightning.qubit\", wires=n_qubits)\n",
    "\n",
    "projector = np.zeros((2**n_qubits, 2**n_qubits))\n",
    "projector[0][0] = 1\n",
    "\n",
    "@qml.qnode(dev)\n",
    "def kernel(x1, x2):\n",
    "    AngleEmbedding(x1, wires=range(n_qubits))\n",
    "    qml.adjoint(AngleEmbedding)(x2, wires=range(n_qubits))\n",
    "    return qml.expval(qml.Hermitian(projector, wires=range(n_qubits)))"
   ]
  },
  {
   "cell_type": "code",
   "execution_count": 22,
   "id": "a8b9a20d-c2cc-4026-a05b-d7e6122cce22",
   "metadata": {},
   "outputs": [
    {
     "data": {
      "text/plain": [
       "array(1.)"
      ]
     },
     "execution_count": 22,
     "metadata": {},
     "output_type": "execute_result"
    }
   ],
   "source": [
    "index = 3\n",
    "kernel(X_train[index], X_train[index])"
   ]
  },
  {
   "cell_type": "code",
   "execution_count": null,
   "id": "31c577b4-54a5-424a-8bc9-4aeb8d2f5258",
   "metadata": {},
   "outputs": [],
   "source": []
  }
 ],
 "metadata": {
  "kernelspec": {
   "display_name": "_env_qml_",
   "language": "python",
   "name": "_env_qml_"
  },
  "language_info": {
   "codemirror_mode": {
    "name": "ipython",
    "version": 3
   },
   "file_extension": ".py",
   "mimetype": "text/x-python",
   "name": "python",
   "nbconvert_exporter": "python",
   "pygments_lexer": "ipython3",
   "version": "3.12.2"
  }
 },
 "nbformat": 4,
 "nbformat_minor": 5
}
