{
 "cells": [
  {
   "cell_type": "markdown",
   "id": "550f4149-10d3-43bf-a220-2729d303bfc1",
   "metadata": {},
   "source": [
    "# Quantum Neural Networks\n",
    "\n",
    "Neural networks and all its specialized architectures such as ConvNets, LSTMs, ResNets, and GANs are part of a broader idea called **differental computing.** Differentible computing is computation carried out using functions with known gradients. These functions have adjustable parameters, and the gradients tell us how to adjust those parameters so that the function performs in a desired manner. \n",
    "\n",
    "> A quantum neural network is any quantum circuit with trainable continuous parameters.\n",
    "\n",
    "In NISQ-era, quantum computing is increasingly being viewed as a form of differential computing. After all, quantum computing is just linear algebra in higher dimensional space.\n",
    "\n",
    "<center>\n",
    "<figure>\n",
    "    <img src=\"./images/qnn_example_circuit.webp\", width=\"50%\">\n",
    "    <figcaption>A quantum circuit whose gates have free parameters. These can be trained the same way as a deep neural network.</figcaption>\n",
    "</figure>\n",
    "</center>\n",
    "\n",
    "These circuits also go by the name **variational quantum circuits** as they were initially proposed for chemistry problems as **variational quantum eigensolvers (VQEs).**\n",
    "\n",
    "**PennyLane**, a leading software package for quantum machine learning, provides two key features:\n",
    "- Automatic differentiation for quantum circuits\n",
    "- QNode abstraction for building hybrid classical-quantum circuits\n",
    "\n",
    "### Comparison of some available quantum software libraries\n",
    "\n",
    "<center>\n",
    "<figure>\n",
    "    <img src=\"./images/qnn_tools.webp\", width=\"50%\">\n",
    "    <figcaption>Comparison of some available quantum software libraries.</figcaption>\n",
    "</figure>\n",
    "</center>"
   ]
  },
  {
   "cell_type": "markdown",
   "id": "a54d2d53-5be9-4e44-8cce-1a363f4cdbc4",
   "metadata": {},
   "source": [
    "## Example Circuit: Training a quantum circuit with PennyLane and PyTorch"
   ]
  },
  {
   "cell_type": "code",
   "execution_count": 1,
   "id": "7eb1b284-1933-416b-9d28-c29f95a5dd42",
   "metadata": {},
   "outputs": [],
   "source": [
    "import pennylane as qml\n",
    "from pennylane import numpy as np\n",
    "import matplotlib.pyplot as plt\n",
    "import torch\n",
    "from torch.autograd import Variable\n",
    "\n",
    "import qutip as qt\n",
    "import imageio"
   ]
  },
  {
   "cell_type": "markdown",
   "id": "0a84b39a-9fea-4594-b19f-02bb10af2183",
   "metadata": {},
   "source": [
    "### Defining the quantum circuit\n",
    "\n",
    "One with Expectation value as output for training, and the other with the quantum state as output foor simulation."
   ]
  },
  {
   "cell_type": "code",
   "execution_count": 3,
   "id": "b72da161-059d-4d3f-aee7-75bc24ec7ce1",
   "metadata": {},
   "outputs": [],
   "source": [
    "dev = qml.device(\"lightning.qubit\", wires=1)\n",
    "\n",
    "# Trainable quantum circuit\n",
    "@qml.qnode(dev, interface=\"torch\")\n",
    "def circuit(phi, theta):\n",
    "    qml.RX(theta, wires=0)\n",
    "    qml.RZ(phi, wires=0)\n",
    "    return qml.expval(qml.PauliZ(0))\n",
    "\n",
    "@qml.qnode(dev, interface=\"torch\")\n",
    "def circuit_states(phi, theta):\n",
    "    qml.RX(theta, wires=0)\n",
    "    qml.RZ(phi, wires=0)\n",
    "    return qml.state()"
   ]
  },
  {
   "cell_type": "markdown",
   "id": "c11a691b-aed6-4cb9-ad4d-f88a4528c1da",
   "metadata": {},
   "source": [
    "### Visualizing the Circuit"
   ]
  },
  {
   "cell_type": "code",
   "execution_count": 4,
   "id": "23f718ce-8847-4394-a5ff-0f8c26a12c29",
   "metadata": {},
   "outputs": [
    {
     "data": {
      "image/png": "[encoded data removed]",
      "text/plain": [
       "<Figure size 500x200 with 1 Axes>"
      ]
     },
     "metadata": {},
     "output_type": "display_data"
    }
   ],
   "source": [
    "params = np.random.random(2)\n",
    "# print(qml.draw(circuit)(*params))\n",
    "qml.draw_mpl(circuit)(*params)\n",
    "plt.show()"
   ]
  },
  {
   "cell_type": "markdown",
   "id": "c4814f56-c2d9-4949-a5bd-d8bdffdeac4a",
   "metadata": {},
   "source": [
    "### Define the cost function to minimize\n",
    "\n",
    "The target defined in the cost function itself, where the polarity changes after every 100 steps."
   ]
  },
  {
   "cell_type": "code",
   "execution_count": 5,
   "id": "853c1427-3c1e-4b40-b8d5-9ce65eb9a757",
   "metadata": {},
   "outputs": [],
   "source": [
    "def cost(phi, theta, step):\n",
    "    target = -(-1) ** (step//100)\n",
    "    return torch.abs(circuit(phi, theta)-target)**2"
   ]
  },
  {
   "cell_type": "markdown",
   "id": "468c384d-101d-4c87-8231-7dd524056b36",
   "metadata": {},
   "source": [
    "### Training"
   ]
  },
  {
   "cell_type": "code",
   "execution_count": 6,
   "id": "b9da3fec-91b9-4e3e-8e7c-66e6a5a33ddc",
   "metadata": {},
   "outputs": [],
   "source": [
    "phi = Variable(torch.tensor(1.), requires_grad=True)\n",
    "theta = Variable(torch.tensor(0.5), requires_grad=True)\n",
    "opt = torch.optim.Adam([phi, theta], lr=0.1)\n",
    "\n",
    "states = []\n",
    "\n",
    "for i in range(400):\n",
    "    states.append(circuit_states(phi, theta))\n",
    "    opt.zero_grad()\n",
    "    loss = cost(phi, theta, i)\n",
    "    loss.backward()\n",
    "    opt.step()\n",
    "states.append(circuit_states(phi, theta))"
   ]
  },
  {
   "cell_type": "markdown",
   "id": "d5d0acdb-f7ff-45e1-862e-2b65f3e52496",
   "metadata": {},
   "source": [
    "### Making and saving bloch diagrams"
   ]
  },
  {
   "cell_type": "code",
   "execution_count": 7,
   "id": "b24f6250-5717-4966-8183-74cd2cf8d318",
   "metadata": {},
   "outputs": [],
   "source": [
    "b = qt.Bloch()\n",
    "dst = \"images/bloch/\"\n",
    "paths = []\n",
    "\n",
    "for i in range(len(states)):\n",
    "    b.clear()\n",
    "    s = qt.Qobj(states[i].detach().numpy())\n",
    "    b.add_states(s)\n",
    "    paths.append(f\"{dst}{i}.png\")\n",
    "    b.save(dst + f\"{i}\")"
   ]
  },
  {
   "cell_type": "markdown",
   "id": "d4bf326a-4ba4-4d46-b253-d9ee3f22096f",
   "metadata": {},
   "source": [
    "### Merging all the bloch images into a GIF"
   ]
  },
  {
   "cell_type": "code",
   "execution_count": 9,
   "id": "1d603d04-2bc1-4167-8665-70a5f6e2555f",
   "metadata": {},
   "outputs": [
    {
     "name": "stderr",
     "output_type": "stream",
     "text": [
      "C:\\Users\\LENOVO\\AppData\\Local\\Temp\\ipykernel_6124\\3862700166.py:3: DeprecationWarning: Starting with ImageIO v3 the behavior of this function will switch to that of iio.v3.imread. To keep the current behavior (and make this warning disappear) use `import imageio.v2 as imageio` or call `imageio.v2.imread` directly.\n",
      "  images.append(imageio.imread(filename))\n"
     ]
    }
   ],
   "source": [
    "images = []\n",
    "for filename in paths:\n",
    "    images.append(imageio.imread(filename))\n",
    "imageio.mimsave('images/bloch.gif', images)"
   ]
  },
  {
   "cell_type": "markdown",
   "id": "3a60d24f-7fe2-44ca-87e7-d8d7892a2a10",
   "metadata": {},
   "source": [
    "### Output GIF\n",
    "\n",
    "![bloch](images/bloch.gif)"
   ]
  },
  {
   "cell_type": "markdown",
   "id": "8848cd2f-0700-44fa-bcc1-d114f4150c49",
   "metadata": {},
   "source": [
    "# QNN for Fashion MNIST"
   ]
  },
  {
   "cell_type": "markdown",
   "id": "548ad64b-768f-46af-a62b-931afac33ed1",
   "metadata": {},
   "source": [
    "## Resources\n",
    "\n",
    "- [Medium Article - Nathan Killoran, Josh Izaac](https://medium.com/xanaduai/training-quantum-neural-networks-with-pennylane-pytorch-and-tensorflow-c669108118cc)\n",
    "- [Medium - Hybrid QNN for reduced MNIST data](https://towardsdatascience.com/hybrid-quantum-neural-network-for-reduced-mnist-data-840897ad08a)\n",
    "- [Q-munity - Intermediate QNN](https://www.qmunity.tech/tutorials/quantum-neural-networks)\n",
    "- [QNN - A Practical Approach - Piotr Gawron](https://conference.ippp.dur.ac.uk/event/929/attachments/3968/4559/piotr_gawron_quantum_neural_networks.pdf)\n",
    "- [QNN Dropout - PennyLane Tutorial](https://pennylane.ai/qml/demos/tutorial_quantum_dropout/)"
   ]
  },
  {
   "cell_type": "code",
   "execution_count": null,
   "id": "473a15ca-c3cc-48db-8d24-f7dcda81631b",
   "metadata": {},
   "outputs": [],
   "source": []
  }
 ],
 "metadata": {
  "kernelspec": {
   "display_name": "_env_qml_",
   "language": "python",
   "name": "_env_qml_"
  },
  "language_info": {
   "codemirror_mode": {
    "name": "ipython",
    "version": 3
   },
   "file_extension": ".py",
   "mimetype": "text/x-python",
   "name": "python",
   "nbconvert_exporter": "python",
   "pygments_lexer": "ipython3",
   "version": "3.12.2"
  }
 },
 "nbformat": 4,
 "nbformat_minor": 5
}
