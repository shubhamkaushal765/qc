{
 "cells": [
  {
   "cell_type": "markdown",
   "id": "6c6838ff-0ec1-44b8-b45f-2eb2c999d487",
   "metadata": {},
   "source": [
    "# Quantum Support Vector Machines\n",
    "\n",
    "1. **Feature Map** for data encoding\r",
    "2. **#Quantum Kernel** for information processing\n",
    "3. **Measurement** to get the outcome \n",
    "\n",
    "The quantum kernel is created by mapping a classical feature vector $x$ to a Hilbert space using a quantum feature map $|\\phi(x)\\rangle$. \n",
    "\n",
    "Mathematically:\n",
    "$$K_{ij} = |\\langle\\phi(\\vec{x_i})|\\phi(\\vec{x_j})\\rangle|^2$$\n",
    "\n",
    "where \n",
    "- $K_{ij}$ is the kernel matrix \n",
    "- $x_i$ and $x_j$ are n-dimensional inputs\n",
    "- $|\\phi(x)\\rangle$ is the quantum feature map\n",
    "- $|\\langle a|b\\rangle|^2$ denotes the overlap of two quantum states $a$ and $b$.\n",
    "\n",
    "<!-- \n",
    "Source:\n",
    "https://www.youtube.com/watch?v=5Kr31IFwJiI\n",
    "https://medium.com/@roysuman088/unveiling-the-power-of-quantum-kernel-based-machine-learning-with-qiskit-8436b9ba41fb\n",
    "-->"
   ]
  },
  {
   "cell_type": "code",
   "execution_count": 2,
   "id": "d3ff1928-21ce-45a2-ab43-acd02dbf16d7",
   "metadata": {},
   "outputs": [],
   "source": [
    "import pennylane as qml\n",
    "from pennylane import numpy as np\n",
    "from sklearn.datasets import load_iris\n",
    "from sklearn.model_selection import train_test_split\n",
    "from sklearn.preprocessing import StandardScaler\n",
    "from sklearn.svm import SVC\n",
    "\n",
    "#Load Data\n",
    "X, y = load_iris(return_X_y=True)\n",
    "\n",
    "# pick inputs and labels from the first two classes only, corresponding to the first 100 samples\n",
    "X = X[:100]\n",
    "y = y[:100]\n",
    "\n",
    "# scaling the inputs is important since the embedding we use is periodic\n",
    "scaler = StandardScaler().fit(X)\n",
    "X_scaled = scaler.transform(X)\n",
    "\n",
    "# scaling the labels to -1, 1 is important for the SVM and the definition of a hinge loss\n",
    "y_scaled = 2 * (y - 0.5)\n",
    "\n",
    "# Split data in train and test\n",
    "X_train, X_test, y_train, y_test = train_test_split(X_scaled, y_scaled)\n",
    "\n",
    "n_qubits = len(X_train[0])\n",
    "dev_kernel = qml.device(\"lightning.qubit\", wires=n_qubits)\n",
    "\n",
    "projector = np.zeros((2**n_qubits, 2**n_qubits))\n",
    "projector[0, 0] = 1\n",
    "\n",
    "# Generate Kernel for single element in quantum\n",
    "@qml.qnode(dev_kernel, interface=\"autograd\")\n",
    "def kernel(x1, x2):\n",
    "    \"\"\"The quantum kernel.\"\"\"\n",
    "    qml.AngleEmbedding(x1, wires=range(n_qubits))\n",
    "    qml.adjoint(qml.AngleEmbedding)(x2, wires=range(n_qubits))\n",
    "    return qml.expval(qml.Hermitian(projector, wires=range(n_qubits)))\n",
    "\n",
    "# Generate whole Kernel Matrix\n",
    "def kernel_matrix(A, B):\n",
    "    \"\"\"Compute the matrix whose entries are the kernel\n",
    "       evaluated on pairwise data from sets A and B.\"\"\"\n",
    "    return np.array([[kernel(a, b) for b in B] for a in A])"
   ]
  },
  {
   "cell_type": "code",
   "execution_count": 3,
   "id": "51eec4d8-b405-4c6e-a4b1-4bb924032226",
   "metadata": {},
   "outputs": [],
   "source": [
    "q_svm = SVC(kernel=kernel_matrix).fit(X_train, y_train)"
   ]
  },
  {
   "cell_type": "code",
   "execution_count": 4,
   "id": "efc6cba3-879c-48f8-bc5d-0a2c648c657c",
   "metadata": {},
   "outputs": [
    {
     "name": "stdout",
     "output_type": "stream",
     "text": [
      "Train Score: 1.00,  Test Score: 1.00\n"
     ]
    }
   ],
   "source": [
    "#Score\n",
    "train_score_q4 = q_svm.score(X_train, y_train)\n",
    "test_score_q4 = q_svm.score(X_test, y_test)\n",
    "\n",
    "print(f\"Train Score: {train_score_q4:.2f},  Test Score: {test_score_q4:.2f}\")"
   ]
  },
  {
   "cell_type": "code",
   "execution_count": null,
   "id": "ca0c4aad-2306-4e3c-96f5-f72ee607b418",
   "metadata": {},
   "outputs": [],
   "source": []
  }
 ],
 "metadata": {
  "kernelspec": {
   "display_name": "_env_qml_",
   "language": "python",
   "name": "_env_qml_"
  },
  "language_info": {
   "codemirror_mode": {
    "name": "ipython",
    "version": 3
   },
   "file_extension": ".py",
   "mimetype": "text/x-python",
   "name": "python",
   "nbconvert_exporter": "python",
   "pygments_lexer": "ipython3",
   "version": "3.12.2"
  }
 },
 "nbformat": 4,
 "nbformat_minor": 5
}
