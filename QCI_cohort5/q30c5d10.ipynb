{
 "cells": [
  {
   "cell_type": "code",
   "execution_count": 116,
   "id": "6387086e-b872-4477-acc3-42b592c6abcb",
   "metadata": {},
   "outputs": [],
   "source": [
    "import pennylane as qml\n",
    "from sklearn import datasets\n",
    "from sklearn.model_selection import train_test_split\n",
    "from sklearn.metrics import log_loss\n",
    "from pennylane import numpy as np\n",
    "from copy import deepcopy"
   ]
  },
  {
   "cell_type": "code",
   "execution_count": 28,
   "id": "adc043d6-4cd8-4e89-8491-ab896c9ccb68",
   "metadata": {},
   "outputs": [],
   "source": [
    "data = datasets.load_iris()\n",
    "X, y = data[\"data\"][:100], data[\"target\"][:100]\n",
    "X_train, X_test, y_train, y_test = train_test_split(X, y, test_size=0.2, random_state=42, shuffle=True)"
   ]
  },
  {
   "cell_type": "code",
   "execution_count": 113,
   "id": "8b01190b-6ede-4536-8b61-3c085b8e46f2",
   "metadata": {},
   "outputs": [
    {
     "name": "stdout",
     "output_type": "stream",
     "text": [
      "0: ──RX(5.60)─╭●───────╭X──RY(0.10)──┤  <Z>\n",
      "1: ──RX(3.00)─╰X─╭●────│───RY(0.98)──┤     \n",
      "2: ──RX(4.10)────╰X─╭●─│───RY(-0.93)─┤     \n",
      "3: ──RX(1.30)───────╰X─╰●──RY(-1.09)─┤     \n",
      "0.052876705316244714\n"
     ]
    }
   ],
   "source": [
    "wires = 4\n",
    "dev = qml.device(\"lightning.qubit\", wires=wires)\n",
    "\n",
    "# maps the classical data to quantum features\n",
    "def feature_map(features):\n",
    "    for i, xi in enumerate(features):\n",
    "        qml.RX(xi, wires=i)\n",
    "\n",
    "# the trainable part of the circuit\n",
    "def variational_form(theta):\n",
    "    for i in range(wires-1):\n",
    "        qml.CNOT(wires=[i, i+1])\n",
    "    qml.CNOT(wires=[wires-1, 0])\n",
    "    for i in range(wires):\n",
    "        qml.RY(theta[i], wires=i)\n",
    "\n",
    "\n",
    "theta = np.random.randn(4)\n",
    "\n",
    "# full qnantum circuit\n",
    "@qml.qnode(dev)\n",
    "def circuit(theta, input=None):\n",
    "    feature_map(input)\n",
    "    variational_form(theta)\n",
    "    return qml.expval(qml.Z(0))\n",
    "\n",
    "drawer = qml.draw(circuit)\n",
    "print(drawer(theta, X_train[1]))\n",
    "print(circuit(theta, X_train[0]))"
   ]
  },
  {
   "cell_type": "code",
   "execution_count": null,
   "id": "7f945560-0bbf-47e5-affa-27d9182fd7c4",
   "metadata": {},
   "outputs": [],
   "source": [
    "def train(epoch=20):\n",
    "    \"\"\"\n",
    "    https://pennylane.ai/blog/2022/06/how-to-choose-your-optimizer/\n",
    "    https://docs.pennylane.ai/en/stable/code/api/pennylane.GradientDescentOptimizer.html\n",
    "    \"\"\"\n",
    "    theta = np.random.randn(4, requires_grad=True)\n",
    "    optimizer = qml.GradientDescentOptimizer()\n",
    "    \n",
    "    for e in range(epoch):\n",
    "        epoch_loss = []\n",
    "        for i in zip(X_train, y_train):\n",
    "            y_true = np.array([i[1]])\n",
    "            # y_pred = circuit(theta, i[0])\n",
    "            # y_pred = np.array([y_pred])\n",
    "            # loss = log_loss(y_true, y_pred, labels=[0, 1])\n",
    "\n",
    "            def obj_fn(opt_theta):\n",
    "                y_pred = circuit(opt_theta, i[0])\n",
    "                y_pred = np.array([y_pred._value])\n",
    "                loss = log_loss(y_true, y_pred, labels=[0, 1])\n",
    "                return loss\n",
    "            # theta = optimizer.step(obj_fn, (theta,), kwargs={})\n",
    "            theta, cost = optimizer.step_and_cost(obj_fn, theta)\n",
    "            epoch_loss.append(cost)\n",
    "        print(np.mean(epoch_loss))\n",
    "train()"
   ]
  },
  {
   "cell_type": "code",
   "execution_count": 117,
   "id": "3a44a300-2387-4148-85d9-4d41e9b66734",
   "metadata": {},
   "outputs": [
    {
     "name": "stdout",
     "output_type": "stream",
     "text": [
      "0.49389717727045984\n",
      "0.5568980214852572\n",
      "0.6293233879923873\n",
      "0.6696755820288722\n",
      "0.6820028157106398\n",
      "0.6848390364016292\n",
      "0.6854288412128536\n",
      "0.6855428845198575\n",
      "0.6855617643927869\n",
      "0.6855633231304518\n",
      "0.6855625295221713\n",
      "0.6855618441465096\n",
      "0.6855614608832422\n",
      "0.6855612701169977\n",
      "0.685561179271649\n",
      "0.6855611368144354\n",
      "0.6855611171364766\n",
      "0.685561108050552\n",
      "0.6855611038625276\n",
      "0.6855611019336453\n"
     ]
    }
   ],
   "source": [
    "def loss(a, b):\n",
    "    return (a-b)**2\n",
    "\n",
    "def gradient(X, y, theta):\n",
    "    y_pred = circuit(theta, X)\n",
    "    delta = 0.01\n",
    "    grad = []\n",
    "    pred = circuit(theta, X)\n",
    "\n",
    "    for i in range(len(theta)):\n",
    "        dtheta = deepcopy(theta)\n",
    "        dtheta[i] += delta\n",
    "        dpred = circuit(dtheta, X)\n",
    "\n",
    "        grad.append((loss(pred, y)-loss(dpred, y))/delta)\n",
    "    return np.array(grad)\n",
    "\n",
    "\n",
    "        \n",
    "    \n",
    "\n",
    "\n",
    "def train(epoch=20):\n",
    "    eta = 0.05\n",
    "    theta = np.random.randn(4, requires_grad=True)\n",
    "    \n",
    "    for e in range(epoch):\n",
    "        epoch_loss = []\n",
    "        for i in zip(X_train, y_train):\n",
    "            y_true = i[1]\n",
    "            y_pred = circuit(theta, i[0])\n",
    "            epoch_loss.append(loss(y_true, y_pred))\n",
    "            theta = theta - eta * gradient(i[0], i[1], theta)\n",
    "            \n",
    "        print(np.mean(epoch_loss))\n",
    "train()"
   ]
  },
  {
   "cell_type": "code",
   "execution_count": null,
   "id": "ca0c4aad-2306-4e3c-96f5-f72ee607b418",
   "metadata": {},
   "outputs": [],
   "source": []
  }
 ],
 "metadata": {
  "kernelspec": {
   "display_name": "_env_qml_",
   "language": "python",
   "name": "_env_qml_"
  },
  "language_info": {
   "codemirror_mode": {
    "name": "ipython",
    "version": 3
   },
   "file_extension": ".py",
   "mimetype": "text/x-python",
   "name": "python",
   "nbconvert_exporter": "python",
   "pygments_lexer": "ipython3",
   "version": "3.12.2"
  }
 },
 "nbformat": 4,
 "nbformat_minor": 5
}
