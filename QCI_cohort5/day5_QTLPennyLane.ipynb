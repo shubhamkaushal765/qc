{
 "cells": [
  {
   "cell_type": "markdown",
   "id": "08ec5f5e-93a9-44ce-89db-3e664fa2bd91",
   "metadata": {},
   "source": [
    "# Quantum Transfer Learning\n",
    "\n",
    "- image classifier based on hybrid classical-quantum network\n",
    "- pretrained-classical to trainable-quantum transfer learning\n",
    "\n",
    "Here, in this notebook:\n",
    "- pretrained Resnet-18 on ImageNet dataset\n",
    "- training on the *Hymenoptera* dataset"
   ]
  }
 ],
 "metadata": {
  "kernelspec": {
   "display_name": "Python 3 (ipykernel)",
   "language": "python",
   "name": "python3"
  },
  "language_info": {
   "codemirror_mode": {
    "name": "ipython",
    "version": 3
   },
   "file_extension": ".py",
   "mimetype": "text/x-python",
   "name": "python",
   "nbconvert_exporter": "python",
   "pygments_lexer": "ipython3",
   "version": "3.12.2"
  }
 },
 "nbformat": 4,
 "nbformat_minor": 5
}
