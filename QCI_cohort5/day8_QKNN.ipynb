{
 "cells": [
  {
   "cell_type": "markdown",
   "id": "1d7e0af8-dc6e-489b-a304-8c4352221f04",
   "metadata": {},
   "source": [
    "# Quantum K-Nearest Neighbor\n",
    "\n",
    "<!--\n",
    "\n",
    "## Distance Between Quantum States\n",
    "\n",
    "- Fidelity: measure of how similar two quantum states\n",
    "- Swap Test: measure of fidelity\n",
    "\n",
    "## Quantum KNN\n",
    "\n",
    "- The data is encoded into quantum states.\n",
    "- The swap test is used to determine distance between all feature vectors encoded in quantum states.\n",
    "- It then uses a Quantum Minimization Algorithm (QMA). QMA uses Grover's Search to find the nearest neighbor.\n",
    "- This approach reduces time spend on finding neighbor from O(n) to O(sqrt(n)).\n",
    "\n",
    "\n",
    "-->"
   ]
  },
  {
   "cell_type": "code",
   "execution_count": null,
   "id": "79bff9d0-28fa-4da5-bc56-c43db77be684",
   "metadata": {},
   "outputs": [],
   "source": []
  }
 ],
 "metadata": {
  "kernelspec": {
   "display_name": "_env_qml_",
   "language": "python",
   "name": "_env_qml_"
  },
  "language_info": {
   "codemirror_mode": {
    "name": "ipython",
    "version": 3
   },
   "file_extension": ".py",
   "mimetype": "text/x-python",
   "name": "python",
   "nbconvert_exporter": "python",
   "pygments_lexer": "ipython3",
   "version": "3.12.2"
  }
 },
 "nbformat": 4,
 "nbformat_minor": 5
}
