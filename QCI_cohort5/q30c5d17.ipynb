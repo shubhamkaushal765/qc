{
 "cells": [
  {
   "cell_type": "code",
   "execution_count": 1,
   "id": "ca564eec-d4df-47da-a3a5-a50f88ff8c71",
   "metadata": {},
   "outputs": [],
   "source": [
    "import pennylane as qml\n",
    "import torch\n",
    "from torch.autograd import Variable"
   ]
  },
  {
   "cell_type": "code",
   "execution_count": 3,
   "id": "a78162dd-33fe-419b-842e-db500103a5de",
   "metadata": {},
   "outputs": [],
   "source": [
    "dev = qml.device(\"lightning.qubit\", wires=1)"
   ]
  },
  {
   "cell_type": "markdown",
   "id": "c903ef5e-aff1-429e-99be-72632977386d",
   "metadata": {},
   "source": [
    "The basic QML workflow contains a few ingredients:\n",
    "\n",
    "- A quantum circuit\n",
    "- A problem specific cost function\n",
    "- An optimization procedure"
   ]
  },
  {
   "cell_type": "code",
   "execution_count": 7,
   "id": "d09403f7-7043-47cf-b3a1-146395d4a74a",
   "metadata": {},
   "outputs": [],
   "source": [
    "# Quantm Circuit\n",
    "@qml.qnode(dev, interface=\"torch\")\n",
    "def circuit(phi1, phi2):\n",
    "    qml.RX(phi1, wires=0)\n",
    "    qml.RY(phi2, wires=0)\n",
    "    return qml.expval(qml.PauliZ(0))"
   ]
  },
  {
   "cell_type": "code",
   "execution_count": 22,
   "id": "335e43b8-f981-42bc-b2d8-3a89b4f03a1e",
   "metadata": {},
   "outputs": [],
   "source": [
    "# Cost Function\n",
    "def cost(phi1, phi2):\n",
    "    expval = circuit(phi1, phi2)\n",
    "    return torch.abs(expval - (-1)) ** 2"
   ]
  },
  {
   "cell_type": "code",
   "execution_count": 20,
   "id": "b0891397-39f6-4d1e-a859-2f884e7135d6",
   "metadata": {},
   "outputs": [],
   "source": [
    "# Optimization procedure\n",
    "phi1 = Variable(torch.tensor(1.), requires_grad=True)\n",
    "phi2 = Variable(torch.tensor(0.05), requires_grad=True)\n",
    "opt = torch.optim.Adam([phi1, phi2], lr=0.1)"
   ]
  },
  {
   "cell_type": "code",
   "execution_count": 21,
   "id": "84582c3a-28ec-4ee5-8d2f-31460478bb4d",
   "metadata": {},
   "outputs": [
    {
     "name": "stdout",
     "output_type": "stream",
     "text": [
      "0.211943235912715 0.8999999761581421 -0.04999995604157448\n",
      "0.0008907783865164023 -0.248289093375206 0.02001696452498436\n",
      "9.99467042654243e-05 -0.1373363882303238 0.008974337950348854\n",
      "1.0784790743571528e-05 -0.08022817969322205 -4.8261776100844145e-05\n",
      "4.517299151138739e-06 -0.06486444175243378 7.337838906096295e-05\n",
      "2.594903147656541e-06 -0.05653567984700203 -8.846607670420781e-05\n",
      "1.6467351746757074e-06 -0.05048881843686104 3.625719909905456e-05\n",
      "1.1094985452719501e-06 -0.04576101154088974 -7.155211733333999e-06\n",
      "7.816110074702829e-07 -0.0419369712471962 -1.7770460658539378e-07\n",
      "5.703123976490905e-07 -0.038769159466028214 4.0290973402079544e-07\n"
     ]
    }
   ],
   "source": [
    "# Training\n",
    "steps = 300\n",
    "\n",
    "for i in range(steps):\n",
    "    opt.zero_grad()\n",
    "    loss = cost(phi1, phi2)\n",
    "    loss.backward()\n",
    "    opt.step()\n",
    "    if i % 30 == 0:\n",
    "        print(loss.item(), phi1.item(), phi2.item())"
   ]
  },
  {
   "cell_type": "code",
   "execution_count": null,
   "id": "da5a70ce-1cd5-4a4c-be12-42c2ae37b2eb",
   "metadata": {},
   "outputs": [],
   "source": []
  }
 ],
 "metadata": {
  "kernelspec": {
   "display_name": "_env_qml_",
   "language": "python",
   "name": "_env_qml_"
  },
  "language_info": {
   "codemirror_mode": {
    "name": "ipython",
    "version": 3
   },
   "file_extension": ".py",
   "mimetype": "text/x-python",
   "name": "python",
   "nbconvert_exporter": "python",
   "pygments_lexer": "ipython3",
   "version": "3.12.2"
  }
 },
 "nbformat": 4,
 "nbformat_minor": 5
}
