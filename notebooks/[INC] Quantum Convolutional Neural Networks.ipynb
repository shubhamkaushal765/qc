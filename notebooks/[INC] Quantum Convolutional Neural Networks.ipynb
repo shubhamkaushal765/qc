{
 "cells": [
  {
   "cell_type": "markdown",
   "id": "bfe796f7-ee67-46be-994c-ca6b0fc2e644",
   "metadata": {},
   "source": [
    "# Quantum Convolutional Neural Network\n",
    "\n",
    "<center>\n",
    "    <figure>\n",
    "        <img src=\"images/qcnn.svg\" width=50%>\n",
    "    </figure>\n",
    "</center>\n",
    "\n",
    "In QCNN, convolutions are operations performed on neighbouring pairs of qubits — they are *parameterized unitary rotations*, just like a regular **variational circuit**! These convolutions are followed by pooling layers, which are effected by measuring a subset of the qubits, and using the measurement results to control subsequent operations. The analogue of a fully-connected layer is a *multi-qubit operation* on the remaining qubits before the final measurement. Parameters of all these operations are learned during training.\r\n",
    "\r\n",
    "One very natural application of QCNNs is classifying quantum states - for example, the original work used them to distinguish between differen*t topological phas*es. QCNNs can also be used to classify images just like their classical counterparts.\n",
    "\n",
    "# Resources\n",
    "- [Quantum ConvolutionaNeural l Network - Arxiv](https://arxiv.org/abs/1810.03787)\n",
    "- [QCNN - PennyLane Glossary](https://pennylane.ai/qml/glossary/qcnn/)\n",
    "- "
   ]
  },
  {
   "cell_type": "code",
   "execution_count": null,
   "id": "aa023d34-24b2-4d87-80e5-cf933b2016d3",
   "metadata": {},
   "outputs": [],
   "source": []
  }
 ],
 "metadata": {
  "kernelspec": {
   "display_name": "Python 3 (ipykernel)",
   "language": "python",
   "name": "python3"
  },
  "language_info": {
   "codemirror_mode": {
    "name": "ipython",
    "version": 3
   },
   "file_extension": ".py",
   "mimetype": "text/x-python",
   "name": "python",
   "nbconvert_exporter": "python",
   "pygments_lexer": "ipython3",
   "version": "3.11.5"
  }
 },
 "nbformat": 4,
 "nbformat_minor": 5
}
