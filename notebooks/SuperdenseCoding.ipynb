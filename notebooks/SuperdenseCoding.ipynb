{
 "cells": [
  {
   "cell_type": "markdown",
   "id": "1285b96d-744a-4984-8e75-76a8fa42cbcf",
   "metadata": {},
   "source": [
    "# Superdense Coding"
   ]
  },
  {
   "cell_type": "code",
   "execution_count": 2,
   "id": "fb6e7470-4ac4-4c47-b586-a42b36f1274a",
   "metadata": {},
   "outputs": [],
   "source": [
    "import pennylane as qml\n",
    "from pennylane import numpy as np"
   ]
  },
  {
   "cell_type": "code",
   "execution_count": 3,
   "id": "37164f32-1f85-4732-aca8-ffd89927f30a",
   "metadata": {},
   "outputs": [],
   "source": [
    "b0, b1 = [np.random.choice([0, 1]) for _ in range(2)]"
   ]
  },
  {
   "cell_type": "code",
   "execution_count": 14,
   "id": "b83852c7-b99f-4339-96a1-bd9e9be0d713",
   "metadata": {},
   "outputs": [],
   "source": [
    "dev_1q = qml.device(\"default.qubit\", wires=1)\n",
    "dev_2q = qml.device(\"default.qubit\", wires=2)\n",
    "\n",
    "@qml.qnode(dev_2q)\n",
    "def circuit(b0, b1):\n",
    "    # bell state\n",
    "    qml.Hadamard(wires=0)\n",
    "    qml.CNOT(wires=[0, 1])\n",
    "\n",
    "    if b0:qml.X(wires=0)\n",
    "    if b1:qml.Z(wires=0)\n",
    "\n",
    "    qml.CNOT(wires=[0, 1])\n",
    "    qml.Hadamard(wires=0)\n",
    "\n",
    "    return [qml.expval(qml.Z(i)) for i in range(2)]"
   ]
  },
  {
   "cell_type": "code",
   "execution_count": 15,
   "id": "5949e700-439b-4954-a23e-6075f9a71443",
   "metadata": {},
   "outputs": [
    {
     "data": {
      "text/plain": [
       "(1, 0, [tensor(1., requires_grad=True), tensor(-1., requires_grad=True)])"
      ]
     },
     "execution_count": 15,
     "metadata": {},
     "output_type": "execute_result"
    }
   ],
   "source": [
    "b0, b1, circuit(b0, b1)"
   ]
  },
  {
   "cell_type": "code",
   "execution_count": null,
   "id": "6dd01356-e4fa-4101-91e4-7a8dc0b5149f",
   "metadata": {},
   "outputs": [],
   "source": []
  }
 ],
 "metadata": {
  "kernelspec": {
   "display_name": "_env_qml_",
   "language": "python",
   "name": "_env_qml_"
  },
  "language_info": {
   "codemirror_mode": {
    "name": "ipython",
    "version": 3
   },
   "file_extension": ".py",
   "mimetype": "text/x-python",
   "name": "python",
   "nbconvert_exporter": "python",
   "pygments_lexer": "ipython3",
   "version": "3.12.2"
  }
 },
 "nbformat": 4,
 "nbformat_minor": 5
}
