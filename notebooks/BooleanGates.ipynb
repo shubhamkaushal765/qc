{
 "cells": [
  {
   "cell_type": "markdown",
   "id": "88bd4372-26f3-4d14-bb77-6d7b613696a5",
   "metadata": {},
   "source": [
    "# Boolean Gates\n",
    "\n",
    "- NOT gate\n",
    "- AND gate\n",
    "- OR gate\n",
    "- XOR gate"
   ]
  },
  {
   "cell_type": "code",
   "execution_count": 1,
   "id": "f89531b5-0675-4f3c-8afb-070a12ef4d4a",
   "metadata": {},
   "outputs": [],
   "source": [
    "import pennylane as qml\n",
    "from pennylane import numpy as np"
   ]
  },
  {
   "cell_type": "code",
   "execution_count": 2,
   "id": "11b1bc1c-7c05-4e3e-8803-48fe964d84b0",
   "metadata": {},
   "outputs": [],
   "source": [
    "dev_3q = qml.device(\"default.qubit\", wires=3)\n",
    "dev_2q = qml.device(\"default.qubit\", wires=2)\n",
    "dev_1q = qml.device(\"default.qubit\", wires=1)\n",
    "\n",
    "z_eigenval_map = {1: 0, -1:1}"
   ]
  },
  {
   "cell_type": "markdown",
   "id": "8665c0e9-e6eb-4c31-9f72-65ab3a729fc2",
   "metadata": {},
   "source": [
    "## NOT Gate"
   ]
  },
  {
   "cell_type": "code",
   "execution_count": 3,
   "id": "9e139958-53db-467d-858d-2224711cba86",
   "metadata": {},
   "outputs": [
    {
     "name": "stdout",
     "output_type": "stream",
     "text": [
      "0 1\n",
      "1 0\n"
     ]
    }
   ],
   "source": [
    "@qml.qnode(dev_1q)\n",
    "def q_not(bit=0):\n",
    "    if bit==0:\n",
    "        qml.X(wires=0)\n",
    "    return qml.expval(qml.Z(0))\n",
    "\n",
    "# Gate Testing\n",
    "for i in range(2):\n",
    "    print(i, z_eigenval_map[q_not(i).item()])"
   ]
  },
  {
   "cell_type": "markdown",
   "id": "3c416d4f-666b-4c4a-b5ba-0284778dfc03",
   "metadata": {},
   "source": [
    "# AND Gate"
   ]
  },
  {
   "cell_type": "code",
   "execution_count": 11,
   "id": "45702f4e-2ea5-46ef-819a-ad97ed317277",
   "metadata": {},
   "outputs": [
    {
     "name": "stdout",
     "output_type": "stream",
     "text": [
      "0 0 0\n",
      "0 1 0\n",
      "1 0 0\n",
      "1 1 1\n"
     ]
    }
   ],
   "source": [
    "@qml.qnode(dev_3q)\n",
    "def q_and(bit0, bit1):\n",
    "    \n",
    "    # State prep\n",
    "    if bit0:qml.X(0)\n",
    "    if bit1:qml.X(1)\n",
    "\n",
    "    # gate\n",
    "    qml.Toffoli(wires=[0, 1, 2])\n",
    "    return qml.expval(qml.Z(2))\n",
    "\n",
    "# Gate Testing\n",
    "for i in range(2):\n",
    "    for j in range(2):\n",
    "        print(i, j, z_eigenval_map[q_and(i, j).item()])"
   ]
  },
  {
   "cell_type": "markdown",
   "id": "82e0278e-afd0-4cbc-af1c-2604c2e9d266",
   "metadata": {},
   "source": [
    "# OR Gate"
   ]
  },
  {
   "cell_type": "code",
   "execution_count": 13,
   "id": "df59afc3-3779-4d96-9422-7cf54a0bea9c",
   "metadata": {},
   "outputs": [
    {
     "name": "stdout",
     "output_type": "stream",
     "text": [
      "0 0 0\n",
      "0 1 1\n",
      "1 0 1\n",
      "1 1 1\n"
     ]
    }
   ],
   "source": [
    "@qml.qnode(dev_3q)\n",
    "def q_or(bit0, bit1):\n",
    "\n",
    "    # using AND as a complement of OR\n",
    "    for i in range(3):\n",
    "        qml.X(i)\n",
    "\n",
    "    # State prep\n",
    "    if bit0:qml.X(0)\n",
    "    if bit1:qml.X(1)\n",
    "\n",
    "    # AND gate\n",
    "    qml.Toffoli(wires=[0, 1, 2])\n",
    "    return qml.expval(qml.Z(2))\n",
    "\n",
    "for i in range(2):\n",
    "    for j in range(2):\n",
    "        print(i, j, z_eigenval_map[q_or(i, j).item()])"
   ]
  },
  {
   "cell_type": "markdown",
   "id": "725bcd85-1460-4ae5-8d78-5f75e8f081c8",
   "metadata": {},
   "source": [
    "# XOR Gate"
   ]
  },
  {
   "cell_type": "code",
   "execution_count": 14,
   "id": "70b0c027-1b9c-4dd7-9e2c-8a0d2fb380e2",
   "metadata": {},
   "outputs": [
    {
     "name": "stdout",
     "output_type": "stream",
     "text": [
      "0 0 0\n",
      "0 1 1\n",
      "1 0 1\n",
      "1 1 0\n"
     ]
    }
   ],
   "source": [
    "@qml.qnode(dev_3q)\n",
    "def q_xor(bit0, bit1):\n",
    "    if bit0:qml.X(2)\n",
    "    if bit1:qml.X(2)\n",
    "    return qml.expval(qml.Z(2))\n",
    "\n",
    "for i in range(2):\n",
    "    for j in range(2):\n",
    "        print(i, j, z_eigenval_map[q_xor(i, j).item()])"
   ]
  },
  {
   "cell_type": "code",
   "execution_count": null,
   "id": "b2a798eb-983a-4f0b-9102-a28bf96d2b10",
   "metadata": {},
   "outputs": [],
   "source": []
  }
 ],
 "metadata": {
  "kernelspec": {
   "display_name": "_env_qml_",
   "language": "python",
   "name": "_env_qml_"
  },
  "language_info": {
   "codemirror_mode": {
    "name": "ipython",
    "version": 3
   },
   "file_extension": ".py",
   "mimetype": "text/x-python",
   "name": "python",
   "nbconvert_exporter": "python",
   "pygments_lexer": "ipython3",
   "version": "3.12.2"
  }
 },
 "nbformat": 4,
 "nbformat_minor": 5
}
