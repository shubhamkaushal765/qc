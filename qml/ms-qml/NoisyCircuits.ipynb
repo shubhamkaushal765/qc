{
 "cells": [
  {
   "cell_type": "code",
   "execution_count": 1,
   "id": "650d94b2-a226-4370-ac28-21b382abbd9c",
   "metadata": {},
   "outputs": [],
   "source": [
    "import pennylane as qml\n",
    "from pennylane import numpy as np"
   ]
  },
  {
   "cell_type": "code",
   "execution_count": 2,
   "id": "f8d1bcca-0fd3-4d4f-a9d3-32cb00474eea",
   "metadata": {},
   "outputs": [
    {
     "data": {
      "text/plain": [
       "tensor(1., requires_grad=True)"
      ]
     },
     "execution_count": 2,
     "metadata": {},
     "output_type": "execute_result"
    }
   ],
   "source": [
    "wires = 2\n",
    "dev = qml.device(\"default.mixed\", wires=wires)\n",
    "\n",
    "@qml.qnode(dev)\n",
    "def circuit():\n",
    "    qml.Hadamard(wires=0)\n",
    "    qml.CNOT(wires=[0, 1])\n",
    "    return qml.expval(qml.Z(0) @ qml.Z(1))\n",
    "\n",
    "circuit()"
   ]
  },
  {
   "cell_type": "code",
   "execution_count": 4,
   "id": "8fc5b78b-f3e4-4d8f-ab2d-884e54e0b8f5",
   "metadata": {},
   "outputs": [
    {
     "name": "stdout",
     "output_type": "stream",
     "text": [
      "[[0.5+0.j 0. +0.j 0. +0.j 0.5+0.j]\n",
      " [0. +0.j 0. +0.j 0. +0.j 0. +0.j]\n",
      " [0. +0.j 0. +0.j 0. +0.j 0. +0.j]\n",
      " [0.5+0.j 0. +0.j 0. +0.j 0.5+0.j]]\n"
     ]
    }
   ],
   "source": [
    "print(dev.state)"
   ]
  },
  {
   "cell_type": "code",
   "execution_count": 10,
   "id": "591a2f0a-d07a-49b6-9c5a-c1c0ded98c24",
   "metadata": {},
   "outputs": [
    {
     "data": {
      "text/plain": [
       "array(0.)"
      ]
     },
     "execution_count": 10,
     "metadata": {},
     "output_type": "execute_result"
    }
   ],
   "source": [
    "@qml.qnode(dev)\n",
    "def bitflip_circuit(p=0.5):\n",
    "    qml.Hadamard(wires=0)\n",
    "    qml.CNOT(wires=[0, 1])\n",
    "    qml.BitFlip(p, wires=0)\n",
    "    qml.BitFlip(p, wires=1)\n",
    "    return qml.expval(qml.Z(0)@qml.Z(1))\n",
    "    # return qml.state()\n",
    "\n",
    "bitflip_circuit()"
   ]
  },
  {
   "cell_type": "code",
   "execution_count": 12,
   "id": "bcd82e6e-9004-4b62-9f9e-2a9488512e9b",
   "metadata": {},
   "outputs": [
    {
     "name": "stdout",
     "output_type": "stream",
     "text": [
      "0.01 0.9603999999999997\n",
      "0.1 0.6399999999999999\n",
      "0.2 0.36000000000000004\n",
      "0.4 0.040000000000000036\n"
     ]
    }
   ],
   "source": [
    "p_vals = [0.01, 0.1, 0.2, 0.4]\n",
    "for p in p_vals:\n",
    "    print(p, bitflip_circuit(p))"
   ]
  },
  {
   "cell_type": "code",
   "execution_count": null,
   "id": "a6d99cca-2cbc-4c10-bf5e-bfb49bf65fcd",
   "metadata": {},
   "outputs": [],
   "source": []
  }
 ],
 "metadata": {
  "kernelspec": {
   "display_name": "_env_qml_",
   "language": "python",
   "name": "_env_qml_"
  },
  "language_info": {
   "codemirror_mode": {
    "name": "ipython",
    "version": 3
   },
   "file_extension": ".py",
   "mimetype": "text/x-python",
   "name": "python",
   "nbconvert_exporter": "python",
   "pygments_lexer": "ipython3",
   "version": "3.12.2"
  }
 },
 "nbformat": 4,
 "nbformat_minor": 5
}
